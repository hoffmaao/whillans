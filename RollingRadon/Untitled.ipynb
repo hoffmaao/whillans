{
 "cells": [
  {
   "cell_type": "code",
   "execution_count": null,
   "metadata": {},
   "outputs": [],
   "source": [
    "import firedrake\n",
    "import functools\n",
    "import sympy\n",
    "import icepack\n",
    "import numpy as np\n",
    "import scipy\n",
    "from icepack.utilities import depth_average, lift3d"
   ]
  },
  {
   "cell_type": "code",
   "execution_count": null,
   "metadata": {},
   "outputs": [],
   "source": [
    "Lx, Ly = 20e3, 20e3\n",
    "nx, ny = 48, 48\n",
    "\n",
    "mesh2d = firedrake.RectangleMesh(nx, ny, Lx, Ly)\n",
    "mesh = firedrake.ExtrudedMesh(mesh2d, layers=1)\n",
    "\n",
    "Q = firedrake.FunctionSpace(mesh, family='CG', degree=2, vfamily='DG', vdegree=0)\n",
    "Q3D = firedrake.FunctionSpace(mesh, family='CG', degree=2, vfamily='GL', vdegree=5)\n",
    "V = firedrake.VectorFunctionSpace(mesh, dim=2, family='CG', degree=2, vfamily='GL', vdegree=5)\n",
    "# note we should call the families in the vertical velocity solver.\n",
    "\n",
    "x, y, ζ = firedrake.SpatialCoordinate(mesh)\n",
    "\n",
    "u_inflow=1.0\n",
    "v_inflow=2.0\n",
    "mu=.003\n",
    "mv=.001\n",
    "\n",
    "b=firedrake.interpolate(firedrake.Constant(0.0),Q)\n",
    "s=firedrake.interpolate(firedrake.Constant(1000.0),Q)\n",
    "h = firedrake.interpolate(s-b,Q)\n",
    "u = firedrake.interpolate(firedrake.as_vector((mu*x+u_inflow,mv*y+v_inflow)),V)\n",
    "\n",
    "m=0.0\n",
    "\n",
    "def analytic_vertical_velocity(h,ζ,mu,mv,m,Q3D):\n",
    "    return firedrake.interpolate(firedrake.Constant(m)-(firedrake.Constant(mu+mv)*h*ζ),Q3D)"
   ]
  },
  {
   "cell_type": "code",
   "execution_count": 3,
   "metadata": {},
   "outputs": [],
   "source": [
    "def _legendre(n, ζ):\n",
    "    return sympy.functions.special.polynomials.legendre(n,2 * ζ -1)\n",
    "\n",
    "\n",
    "def weight(n,ζ):\n",
    "    norm=(1/sympy.integrate(_legendre(n,ζ)**2,(ζ,0,1)))**.5\n",
    "    return sympy.lambdify(ζ,norm*_legendre(n,ζ),'numpy')\n",
    "\n",
    "def coefficient(n,q3d,ζ,ζsym,Q):\n",
    "    \"\"\"\n",
    "    n : int\n",
    "    q3d : firedrake.Function\n",
    "    \"\"\"\n",
    "    a_n=depth_average(q3d,weight=weight(n,ζsym)(ζ))\n",
    "    a_n3d=lift3d(a_n,Q)\n",
    "    return a_n3d\n",
    "\n",
    "@functools.lru_cache(maxsize=None)\n",
    "def recurrance_relation(n,ζ):\n",
    "    if n>0:\n",
    "        return sympy.lambdify(ζ,(1/(2*(2*n+1)))*(_legendre(n+1,ζ)-_legendre(n-1,ζ)),'numpy')\n",
    "    elif n==0:\n",
    "        return sympy.lambdify(ζ,1/2,'numpy')\n",
    "    if n<0:\n",
    "        print('error')\n",
    "\n",
    "def vertical_integrate(q3d,h):\n",
    "    \"\"\"\n",
    "    q3d : firedrake.Function\n",
    "    \"\"\"\n",
    "    Q=h.function_space()\n",
    "    mesh=Q.mesh()\n",
    "    W=q3d.function_space()\n",
    "    x,y,ζ=firedrake.SpatialCoordinate(mesh)\n",
    "    xdegree_q3d,zdegree_q3d=q3d.ufl_element().degree()\n",
    "\n",
    "    ζsym=sympy.symbols(\"ζsym\")\n",
    "    w3d=firedrake.Function(W)\n",
    "    w3d=sum([coefficient(k,q3d,ζ,ζsym,Q) * h * recurrance_relation(k,ζsym)(ζ) for k in range(1,zdegree_q3d)])\n",
    "    return firedrake.interpolate(w3d,W)\n",
    "\n",
    "def vertical_velocity(u,h,m=0.0):\n",
    "    \"\"\"\n",
    "    u : firedrake.Function\n",
    "    h : firedrake.Function\n",
    "    m : terrain following ice base velocity (melt rate/accretion rate)\n",
    "    \"\"\"\n",
    "    Q = h.function_space()\n",
    "    mesh=Q.mesh()\n",
    "    xdegree_u, zdegree_u = u.ufl_element().degree()\n",
    "    W = firedrake.FunctionSpace(mesh,family='CG',degree=xdegree_u,vfamily='GL',vdegree=zdegree_u)\n",
    "    u_div=firedrake.interpolate(u[0].dx(0)+u[1].dx(1),W)\n",
    "    return firedrake.interpolate(m-vertical_integrate(u_div,h),W)"
   ]
  },
  {
   "cell_type": "code",
   "execution_count": 4,
   "metadata": {},
   "outputs": [],
   "source": [
    "w=vertical_velocity(u,h,m=0.0)\n",
    "\n",
    "w_analytic=analytic_vertical_velocity(h,ζ,mu,mv,m,Q3D)"
   ]
  },
  {
   "cell_type": "markdown",
   "metadata": {},
   "source": [
    "# vertical velocity"
   ]
  },
  {
   "cell_type": "code",
   "execution_count": 5,
   "metadata": {},
   "outputs": [],
   "source": [
    "xdegree_u, zdegree_u = u.ufl_element().degree()\n",
    "W = firedrake.FunctionSpace(mesh,family='CG',degree=xdegree_u,vfamily='GL',vdegree=zdegree_u)\n",
    "w=vertical_velocity(u,h)"
   ]
  },
  {
   "cell_type": "code",
   "execution_count": 6,
   "metadata": {},
   "outputs": [],
   "source": [
    "ζsym=sympy.symbols(\"ζsym\")\n",
    "f0=recurrance_relation(0,ζsym)\n",
    "f1=recurrance_relation(1,ζsym)\n",
    "f2=recurrance_relation(2,ζsym)\n",
    "f3=recurrance_relation(3,ζsym)\n",
    "f4=recurrance_relation(4,ζsym)"
   ]
  },
  {
   "cell_type": "code",
   "execution_count": 7,
   "metadata": {},
   "outputs": [],
   "source": [
    "order_0=firedrake.interpolate(h*f0(ζ),W)\n",
    "order_1=firedrake.interpolate(h*f1(ζ),W)\n",
    "order_2=firedrake.interpolate(h*f2(ζ),W)\n",
    "order_3=firedrake.interpolate(h*f3(ζ),W)\n",
    "order_4=firedrake.interpolate(h*f4(ζ),W)"
   ]
  },
  {
   "cell_type": "code",
   "execution_count": 8,
   "metadata": {},
   "outputs": [],
   "source": [
    "u_div=firedrake.interpolate(u[0].dx(0)+u[1].dx(1),W)"
   ]
  },
  {
   "cell_type": "code",
   "execution_count": 18,
   "metadata": {},
   "outputs": [
    {
     "data": {
      "text/plain": [
       "-235.76522100824815"
      ]
     },
     "execution_count": 18,
     "metadata": {},
     "output_type": "execute_result"
    }
   ],
   "source": [
    "np.min(order_0.dat.data)\n",
    "np.min(order_1.dat.data)\n",
    "np.min(order_2.dat.data)\n",
    "np.min(order_1.dat.data)"
   ]
  },
  {
   "cell_type": "code",
   "execution_count": 10,
   "metadata": {},
   "outputs": [
    {
     "data": {
      "image/png": "[encoded data removed]",
      "text/plain": [
       "<Figure size 432x288 with 1 Axes>"
      ]
     },
     "metadata": {
      "needs_background": "light"
     },
     "output_type": "display_data"
    }
   ],
   "source": [
    "import matplotlib.pyplot as plt\n",
    "from matplotlib.collections import LineCollection\n",
    "from matplotlib.colors import ListedColormap, BoundaryNorm\n",
    "\n",
    "\n",
    "xs = np.array([(Lx * k / nx, 0, .5) for k in range(nx + 1)])\n",
    "ss = np.array(s.at(xs, tolerance=1e-10))\n",
    "hs = np.array(h.at(xs, tolerance=1e-10))\n",
    "bs = np.array(b.at(xs, tolerance=1e-10))\n",
    "\n",
    "fig, axes = plt.subplots()\n",
    "axes.plot(xs[:, 0], bs, color='black')\n",
    "axes.plot(xs[:, 0], ss - hs, color='blue')\n",
    "axes.plot(xs[:, 0], ss, color='blue')\n",
    "plt.savefig('fig01.png')\n",
    "\n"
   ]
  },
  {
   "cell_type": "code",
   "execution_count": null,
   "metadata": {},
   "outputs": [],
   "source": [
    "nz=20\n",
    "\n",
    "xz = np.array([(Lx * k / nx, Ly/2.0, i)  for k in range(nx + 1) for i in np.arange(0.0,1.0,1.0/nz)])\n",
    "wM= np.array(w.at(xz, tolerance=1e-10))\n",
    "waM= np.array(w_analytic.at(xz, tolerance=1e-10))\n",
    "udivM= np.array(u_div.at(xz, tolerance=1e-10))\n",
    "udivM = np.reshape(udivM,(49,nz));\n",
    "wM=np.reshape(wM,(49,nz));\n",
    "waM=np.reshape(waM,(49,nz));\n",
    "\n",
    "xz=np.reshape(xz,(49,nz,3));\n",
    "hz=np.reshape(np.repeat(hs,nz),(49,nz));\n",
    "hz=np.multiply(xz[:,:,2],hz,);\n",
    "\n",
    "fig, axs = plt.subplots()\n",
    "for i in range(nz):\n",
    "    points = np.array([np.squeeze(xz[:,i,0]),np.squeeze(bs+hz[:,i])]).T.reshape(-1, 1, 2)\n",
    "    segments = np.concatenate([points[:-1], points[1:]], axis=1)\n",
    "    norm = plt.Normalize(np.min(wM-waM),np.max(wM-waM))\n",
    "    lc = LineCollection(segments, cmap='viridis', norm=norm)\n",
    "    # Set the values used for colormapping\n",
    "    lc.set_array(np.squeeze(wM[:,i]-waM[:,i]))\n",
    "    lc.set_linewidth(2)\n",
    "    line = axs.add_collection(lc)\n",
    "axs.set_xlim(xz.min(), xz.max())\n",
    "axs.set_ylim(bs.min(), ss.max())\n",
    "axs.plot(xs[:, 0], bs, color='black')\n",
    "fig.colorbar(line, ax=axs,label=r'vertical velocity difference (numerical-analytic).$(m\\dota^{-1})$')\n",
    "axs.set_ylabel('elevation.(m)')\n",
    "axs.set_xlabel('distance.(km)')\n",
    "plt.savefig('fig02.png')\n",
    "\n",
    "fig, axs = plt.subplots()\n",
    "for i in range(nz):\n",
    "    points = np.array([np.squeeze(xz[:,i,0]),np.squeeze(bs+hz[:,i])]).T.reshape(-1, 1, 2)\n",
    "    segments = np.concatenate([points[:-1], points[1:]], axis=1)\n",
    "    norm = plt.Normalize(np.min(wM),np.max(wM))\n",
    "    lc = LineCollection(segments, cmap='viridis', norm=norm)\n",
    "    # Set the values used for colormapping\n",
    "    lc.set_array(np.squeeze(wM[:,i]))\n",
    "    lc.set_linewidth(2)\n",
    "    line = axs.add_collection(lc)\n",
    "axs.set_xlim(xz.min(), xz.max())\n",
    "axs.set_ylim(bs.min(), ss.max())\n",
    "axs.plot(xs[:, 0], bs, color='black')\n",
    "fig.colorbar(line, ax=axs,label=r'vertical velocity numerical.$(m\\dota^{-1})$')\n",
    "axs.set_ylabel('elevation.(m)')\n",
    "axs.set_xlabel('distance.(km)')\n",
    "plt.savefig('fig03.png')\n",
    "\n",
    "\n",
    "fig, axs = plt.subplots()\n",
    "for i in range(nz):\n",
    "    points = np.array([np.squeeze(xz[:,i,0]),np.squeeze(bs+hz[:,i])]).T.reshape(-1, 1, 2)\n",
    "    segments = np.concatenate([points[:-1], points[1:]], axis=1)\n",
    "    norm = plt.Normalize(-.4,0.0)\n",
    "    lc = LineCollection(segments, cmap='viridis', norm=norm)\n",
    "    # Set the values used for colormapping\n",
    "    lc.set_array(np.squeeze(waM[:,i]))\n",
    "    lc.set_linewidth(2)\n",
    "    line = axs.add_collection(lc)\n",
    "axs.set_xlim(xz.min(), xz.max())\n",
    "axs.set_ylim(bs.min(), ss.max())\n",
    "axs.plot(xs[:, 0], bs, color='black')\n",
    "fig.colorbar(line, ax=axs,label=r'vertical velocity analytic.$(m\\dota^{-1})$')\n",
    "axs.set_ylabel('elevation.(m)')\n",
    "axs.set_xlabel('distance.(km)')\n",
    "plt.savefig('fig04.png')\n",
    "\n",
    "fig, axs = plt.subplots()\n",
    "for i in range(nz):\n",
    "    points = np.array([np.squeeze(xz[:,i,0]),np.squeeze(bs+hz[:,i])]).T.reshape(-1, 1, 2)\n",
    "    segments = np.concatenate([points[:-1], points[1:]], axis=1)\n",
    "    norm = plt.Normalize(np.min(udivM),np.max(udivM))\n",
    "    lc = LineCollection(segments, cmap='viridis', norm=norm)\n",
    "    # Set the values used for colormapping\n",
    "    lc.set_array(np.squeeze(udivM[:,i]))\n",
    "    lc.set_linewidth(2)\n",
    "    line = axs.add_collection(lc)\n",
    "axs.set_xlim(xz.min(), xz.max())\n",
    "axs.set_ylim(bs.min(), ss.max())\n",
    "axs.plot(xs[:, 0], bs, color='black')\n",
    "fig.colorbar(line, ax=axs,label=r'divergence of u.$(m\\dota^{-1})$')\n",
    "axs.set_ylabel('elevation.(m)')\n",
    "axs.set_xlabel('distance.(km)')\n",
    "plt.savefig('fig05.png')\n",
    "\n"
   ]
  },
  {
   "cell_type": "code",
   "execution_count": 15,
   "metadata": {},
   "outputs": [
    {
     "name": "stdout",
     "output_type": "stream",
     "text": [
      "0.003999999999999987\n",
      "-2.145398361401932e-17\n",
      "8.759292483883158e-18\n",
      "1.9646190886925577e-17\n",
      "6.12648653359441e-18\n"
     ]
    }
   ],
   "source": [
    "print(coefficient(0,u_div,ζ,ζsym,Q).dat.data[0])\n",
    "print(coefficient(1,u_div,ζ,ζsym,Q).dat.data[0])\n",
    "print(coefficient(2,u_div,ζ,ζsym,Q).dat.data[0])\n",
    "print(coefficient(3,u_div,ζ,ζsym,Q).dat.data[0])\n",
    "print(coefficient(4,u_div,ζ,ζsym,Q).dat.data[0])"
   ]
  },
  {
   "cell_type": "code",
   "execution_count": 16,
   "metadata": {},
   "outputs": [],
   "source": [
    "xz = np.array([(Lx * k / nx, Ly/2.0, i)  for k in range(nx + 1) for i in np.arange(0.0,1.0,1.0/nz)])\n",
    "o0= np.array(order_0.at(xz, tolerance=1e-10))\n",
    "o1= np.array(order_1.at(xz, tolerance=1e-10))\n",
    "o2= np.array(order_2.at(xz, tolerance=1e-10))\n",
    "o3= np.array(order_3.at(xz, tolerance=1e-10))\n",
    "o4= np.array(order_4.at(xz, tolerance=1e-10))\n",
    "o0=np.reshape(o0,(49,nz));\n",
    "o1=np.reshape(o1,(49,nz));\n",
    "o2=np.reshape(o2,(49,nz));\n",
    "o3=np.reshape(o3,(49,nz));\n",
    "o4=np.reshape(o4,(49,nz));\n",
    "\n",
    "xz=np.reshape(xz,(49,nz,3));"
   ]
  },
  {
   "cell_type": "code",
   "execution_count": 17,
   "metadata": {},
   "outputs": [
    {
     "data": {
      "image/png": "[encoded data removed]",
      "text/plain": [
       "<Figure size 432x288 with 2 Axes>"
      ]
     },
     "metadata": {
      "needs_background": "light"
     },
     "output_type": "display_data"
    },
    {
     "data": {
      "image/png": "[encoded data removed]",
      "text/plain": [
       "<Figure size 432x288 with 2 Axes>"
      ]
     },
     "metadata": {
      "needs_background": "light"
     },
     "output_type": "display_data"
    },
    {
     "data": {
      "image/png": "[encoded data removed]",
      "text/plain": [
       "<Figure size 432x288 with 2 Axes>"
      ]
     },
     "metadata": {
      "needs_background": "light"
     },
     "output_type": "display_data"
    },
    {
     "data": {
      "image/png": "[encoded data removed]",
      "text/plain": [
       "<Figure size 432x288 with 2 Axes>"
      ]
     },
     "metadata": {
      "needs_background": "light"
     },
     "output_type": "display_data"
    },
    {
     "data": {
      "image/png": "[encoded data removed]",
      "text/plain": [
       "<Figure size 432x288 with 2 Axes>"
      ]
     },
     "metadata": {
      "needs_background": "light"
     },
     "output_type": "display_data"
    }
   ],
   "source": [
    "\n",
    "\n",
    "fig, axs = plt.subplots()\n",
    "for i in range(nz):\n",
    "    points = np.array([np.squeeze(xz[:,i,0]),np.squeeze(bs+hz[:,i])]).T.reshape(-1, 1, 2)\n",
    "    segments = np.concatenate([points[:-1], points[1:]], axis=1)\n",
    "    norm = plt.Normalize(np.min(o0),np.max(o0))\n",
    "    lc = LineCollection(segments, cmap='viridis', norm=norm)\n",
    "    # Set the values used for colormapping\n",
    "    lc.set_array(np.squeeze(o0[:,i]))\n",
    "    lc.set_linewidth(2)\n",
    "    line = axs.add_collection(lc)\n",
    "axs.set_xlim(xz.min(), xz.max())\n",
    "axs.set_ylim(bs.min(), ss.max())\n",
    "axs.plot(xs[:, 0], bs, color='black')\n",
    "fig.colorbar(line, ax=axs,label=r'vertical velocity analytic.$(m\\dota^{-1})$')\n",
    "axs.set_ylabel('elevation.(m)')\n",
    "axs.set_xlabel('distance.(km)')\n",
    "plt.show()\n",
    "\n",
    "\n",
    "\n",
    "fig, axs = plt.subplots()\n",
    "for i in range(nz):\n",
    "    points = np.array([np.squeeze(xz[:,i,0]),np.squeeze(bs+hz[:,i])]).T.reshape(-1, 1, 2)\n",
    "    segments = np.concatenate([points[:-1], points[1:]], axis=1)\n",
    "    norm = plt.Normalize(np.min(o1),np.max(o1))\n",
    "    lc = LineCollection(segments, cmap='viridis', norm=norm)\n",
    "    # Set the values used for colormapping\n",
    "    lc.set_array(np.squeeze(o1[:,i]))\n",
    "    lc.set_linewidth(2)\n",
    "    line = axs.add_collection(lc)\n",
    "axs.set_xlim(xz.min(), xz.max())\n",
    "axs.set_ylim(bs.min(), ss.max())\n",
    "axs.plot(xs[:, 0], bs, color='black')\n",
    "fig.colorbar(line, ax=axs,label=r'vertical velocity analytic.$(m\\dota^{-1})$')\n",
    "axs.set_ylabel('elevation.(m)')\n",
    "axs.set_xlabel('distance.(km)')\n",
    "plt.show()\n",
    "\n",
    "\n",
    "\n",
    "fig, axs = plt.subplots()\n",
    "for i in range(nz):\n",
    "    points = np.array([np.squeeze(xz[:,i,0]),np.squeeze(bs+hz[:,i])]).T.reshape(-1, 1, 2)\n",
    "    segments = np.concatenate([points[:-1], points[1:]], axis=1)\n",
    "    norm = plt.Normalize(np.min(o2),np.max(o2))\n",
    "    lc = LineCollection(segments, cmap='viridis', norm=norm)\n",
    "    # Set the values used for colormapping\n",
    "    lc.set_array(np.squeeze(o2[:,i]))\n",
    "    lc.set_linewidth(2)\n",
    "    line = axs.add_collection(lc)\n",
    "axs.set_xlim(xz.min(), xz.max())\n",
    "axs.set_ylim(bs.min(), ss.max())\n",
    "axs.plot(xs[:, 0], bs, color='black')\n",
    "fig.colorbar(line, ax=axs,label=r'vertical velocity analytic.$(m\\dota^{-1})$')\n",
    "axs.set_ylabel('elevation.(m)')\n",
    "axs.set_xlabel('distance.(km)')\n",
    "plt.show()\n",
    "\n",
    "\n",
    "\n",
    "fig, axs = plt.subplots()\n",
    "for i in range(nz):\n",
    "    points = np.array([np.squeeze(xz[:,i,0]),np.squeeze(bs+hz[:,i])]).T.reshape(-1, 1, 2)\n",
    "    segments = np.concatenate([points[:-1], points[1:]], axis=1)\n",
    "    norm = plt.Normalize(np.min(o3),np.max(o3))\n",
    "    lc = LineCollection(segments, cmap='viridis', norm=norm)\n",
    "    # Set the values used for colormapping\n",
    "    lc.set_array(np.squeeze(o3[:,i]))\n",
    "    lc.set_linewidth(2)\n",
    "    line = axs.add_collection(lc)\n",
    "axs.set_xlim(xz.min(), xz.max())\n",
    "axs.set_ylim(bs.min(), ss.max())\n",
    "axs.plot(xs[:, 0], bs, color='black')\n",
    "fig.colorbar(line, ax=axs,label=r'vertical velocity analytic.$(m\\dota^{-1})$')\n",
    "axs.set_ylabel('elevation.(m)')\n",
    "axs.set_xlabel('distance.(km)')\n",
    "plt.show()\n",
    "\n",
    "\n",
    "\n",
    "fig, axs = plt.subplots()\n",
    "for i in range(nz):\n",
    "    points = np.array([np.squeeze(xz[:,i,0]),np.squeeze(bs+hz[:,i])]).T.reshape(-1, 1, 2)\n",
    "    segments = np.concatenate([points[:-1], points[1:]], axis=1)\n",
    "    norm = plt.Normalize(np.min(o4),np.max(o4))\n",
    "    lc = LineCollection(segments, cmap='viridis', norm=norm)\n",
    "    # Set the values used for colormapping\n",
    "    lc.set_array(np.squeeze(o4[:,i]))\n",
    "    lc.set_linewidth(2)\n",
    "    line = axs.add_collection(lc)\n",
    "axs.set_xlim(xz.min(), xz.max())\n",
    "axs.set_ylim(bs.min(), ss.max())\n",
    "axs.plot(xs[:, 0], bs, color='black')\n",
    "fig.colorbar(line, ax=axs,label=r'vertical velocity analytic.$(m\\dota^{-1})$')\n",
    "axs.set_ylabel('elevation.(m)')\n",
    "axs.set_xlabel('distance.(km)')\n",
    "plt.show()\n"
   ]
  },
  {
   "cell_type": "code",
   "execution_count": 101,
   "metadata": {},
   "outputs": [
    {
     "data": {
      "text/latex": [
       "$\\displaystyle 13.125 \\left(2 ζsym - 1\\right)^{4} - 11.25 \\left(2 ζsym - 1\\right)^{2} + 1.125$"
      ],
      "text/plain": [
       "13.125*(2*ζsym - 1)**4 - 11.25*(2*ζsym - 1)**2 + 1.125"
      ]
     },
     "execution_count": 101,
     "metadata": {},
     "output_type": "execute_result"
    }
   ],
   "source": [
    "(1/sympy.integrate(_legendre(4,ζsym)**2,(ζsym,0,1)))**.5*_legendre(4,ζsym)"
   ]
  },
  {
   "cell_type": "code",
   "execution_count": 86,
   "metadata": {},
   "outputs": [
    {
     "data": {
      "text/plain": [
       "1.7320508075688772"
      ]
     },
     "execution_count": 86,
     "metadata": {},
     "output_type": "execute_result"
    }
   ],
   "source": [
    "np.sqrt(3)"
   ]
  },
  {
   "cell_type": "code",
   "execution_count": null,
   "metadata": {},
   "outputs": [],
   "source": []
  }
 ],
 "metadata": {
  "kernelspec": {
   "display_name": "firedrake",
   "language": "python",
   "name": "firedrake"
  },
  "language_info": {
   "codemirror_mode": {
    "name": "ipython",
    "version": 3
   },
   "file_extension": ".py",
   "mimetype": "text/x-python",
   "name": "python",
   "nbconvert_exporter": "python",
   "pygments_lexer": "ipython3",
   "version": "3.8.6"
  }
 },
 "nbformat": 4,
 "nbformat_minor": 4
}
